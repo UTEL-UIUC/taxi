{
 "cells": [
  {
   "cell_type": "code",
   "execution_count": 1,
   "id": "7f4c6de4",
   "metadata": {},
   "outputs": [],
   "source": [
    "import numpy as np\n",
    "import scipy.optimize as opt\n"
   ]
  },
  {
   "cell_type": "code",
   "execution_count": 38,
   "id": "46d8ef78",
   "metadata": {},
   "outputs": [
    {
     "name": "stdout",
     "output_type": "stream",
     "text": [
      "n= 8.967852031753846,\n",
      "p= 1.24582643323393,\n",
      "Q= 21.30923990500243,\n",
      "m= -0.10515285413426656,\n",
      "cbar= 0.22419630079384617,\n",
      "chat= 0.44839260158769234,\n",
      "w= 0.26812928497173927\n"
     ]
    }
   ],
   "source": [
    "R = 2.0\n",
    "θ = 1./3.\n",
    "β = 5.\n",
    "Q0 = 30.\n",
    "γ = .5\n",
    "cmax = 1\n",
    "Ω = 20.\n",
    "χ = 5.\n",
    "f = lambda w,p,c: Q0 - β*w - (p+c)*χ\n",
    "cbar = lambda n: cmax*(n/(2*Ω))\n",
    "chat = lambda n: cmax*(n/Ω)\n",
    "ε = np.finfo(float).eps\n",
    "D = lambda n,p: opt.fsolve(lambda Q: f(γ/max(n-θ*Q,ε),p,cbar(n))-Q,x0=n/θ/2)[0]\n",
    "\n",
    "def W(n,p):\n",
    "    Q = D(n,p)\n",
    "    return Q**2/(2*χ) + (p-cbar(n))*Q - R*n\n",
    "bnds = ([ε, Ω], [0, None])\n",
    "n,p = opt.minimize(lambda x: -W(*x), \n",
    "                   (Ω/2, R*θ),\n",
    "                   constraints={\n",
    "                   'type': 'ineq', \n",
    "                   'fun': lambda x:  x[0]-D(x[0],x[1])*θ\n",
    "                   },\n",
    "                   bounds=bnds).x\n",
    "Q = D(n,p)\n",
    "m = Q*(p-chat(n))/n - R\n",
    "print(f\"n= {n},\\np= {p},\\nQ= {Q},\\nm= {m},\\ncbar= {cbar(n)},\\nchat= {chat(n)},\\nw= {γ/(n-θ*Q)}\")"
   ]
  },
  {
   "cell_type": "code",
   "execution_count": null,
   "id": "37b815bf",
   "metadata": {},
   "outputs": [],
   "source": [
    "ϕ = Q*β/χ\n",
    "gprime = γ/pow(n-θ*Q,2)\n",
    "ϕ*gprime - 2*Q/n*(tbar(n)-that(n))"
   ]
  },
  {
   "cell_type": "code",
   "execution_count": 3,
   "id": "a5da4b5f",
   "metadata": {},
   "outputs": [
    {
     "name": "stdout",
     "output_type": "stream",
     "text": [
      "n= 11.995449583735082,\n",
      "p= 0.7502031328742483,\n",
      "Q= 25.53160653295938,\n",
      "m= -0.30534400677234236,\n",
      "cbar= 0.39984831945783605,\n",
      "chat= 0.7996966389156721,\n",
      "w= 0.14347556053387558\n"
     ]
    }
   ],
   "source": [
    "#when passengers don't care about quality\n",
    "R = .2\n",
    "θ = 1./3.\n",
    "β = 5.\n",
    "Q0 = 30.\n",
    "γ = .5\n",
    "cmax = 1\n",
    "Ω = 15.\n",
    "χ = 5.\n",
    "f = lambda w,p,c: Q0 - β*w - (p)*χ\n",
    "cbar = lambda n: cmax*(n/(2*Ω))\n",
    "chat = lambda n: cmax*(n/Ω)\n",
    "ε = np.finfo(float).eps\n",
    "D = lambda n,p: opt.fsolve(lambda Q: f(γ/max(n-θ*Q,ε),p,cbar(n))-Q,x0=n/θ/2)[0]\n",
    "\n",
    "def W(n,p):\n",
    "    Q = D(n,p)\n",
    "    return Q**2/(2*χ) + (p-cbar(n))*Q - R*n\n",
    "bnds = ([ε, Ω], [0, None])\n",
    "n,p = opt.minimize(lambda x: -W(*x), \n",
    "                   (Ω/2, R*θ),\n",
    "                   constraints={\n",
    "                   'type': 'ineq', \n",
    "                   'fun': lambda x:  x[0]-D(x[0],x[1])*θ\n",
    "                   },\n",
    "                   bounds=bnds).x\n",
    "Q = D(n,p)\n",
    "m = Q*(p-chat(n))/n - R\n",
    "print(f\"n= {n},\\np= {p},\\nQ= {Q},\\nm= {m},\\ncbar= {cbar(n)},\\nchat= {chat(n)},\\nw= {γ/(n-θ*Q)}\")"
   ]
  },
  {
   "cell_type": "code",
   "execution_count": 7,
   "id": "bb4a230b",
   "metadata": {},
   "outputs": [
    {
     "data": {
      "text/plain": [
       "8.326672684688674e-17"
      ]
     },
     "execution_count": 7,
     "metadata": {},
     "output_type": "execute_result"
    }
   ],
   "source": [
    "Q/n*(chat(n)-p + R * n / Q + p - chat(n)) - R "
   ]
  },
  {
   "cell_type": "code",
   "execution_count": null,
   "id": "15ec1da5",
   "metadata": {},
   "outputs": [],
   "source": []
  }
 ],
 "metadata": {
  "kernelspec": {
   "display_name": "Python 3.7.7 ('base')",
   "language": "python",
   "name": "python3"
  },
  "language_info": {
   "codemirror_mode": {
    "name": "ipython",
    "version": 3
   },
   "file_extension": ".py",
   "mimetype": "text/x-python",
   "name": "python",
   "nbconvert_exporter": "python",
   "pygments_lexer": "ipython3",
   "version": "3.7.7"
  },
  "vscode": {
   "interpreter": {
    "hash": "40d3a090f54c6569ab1632332b64b2c03c39dcf918b08424e98f38b5ae0af88f"
   }
  }
 },
 "nbformat": 4,
 "nbformat_minor": 5
}
