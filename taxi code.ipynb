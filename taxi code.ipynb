{
 "cells": [
  {
   "cell_type": "code",
   "execution_count": 4,
   "id": "30fb4e03",
   "metadata": {},
   "outputs": [],
   "source": [
    "import numpy as np\n",
    "import matplotlib.pyplot as plt\n",
    "import scipy.optimize as opt\n",
    "import pandas as pd"
   ]
  },
  {
   "cell_type": "markdown",
   "id": "3da5c309",
   "metadata": {},
   "source": [
    "## Simulation of R-model to produce Figure 3"
   ]
  },
  {
   "cell_type": "code",
   "execution_count": 9,
   "id": "f458e278",
   "metadata": {},
   "outputs": [
    {
     "data": {
      "text/plain": [
       "<matplotlib.legend.Legend at 0x7ff0bd626c50>"
      ]
     },
     "execution_count": 9,
     "metadata": {},
     "output_type": "execute_result"
    },
    {
     "data": {
      "image/png": "[encoded data removed]",
      "text/plain": [
       "<Figure size 302.4x288 with 1 Axes>"
      ]
     },
     "metadata": {
      "needs_background": "light"
     },
     "output_type": "display_data"
    }
   ],
   "source": [
    "# passengers\n",
    "p = 7.\n",
    "χ = 2.5\n",
    "β = .3\n",
    "γ = 50.\n",
    "θ = 1./4.\n",
    "ψ = 10.0e3\n",
    "f = lambda w,p: ψ*np.exp(-β*p-χ*w)\n",
    "# f = lambda w,p: ψ - β*p - χ*w\n",
    "\n",
    "ε = np.finfo(float).eps\n",
    "D = np.vectorize(lambda n,p: opt.fsolve(lambda Q: f(γ/max(n-θ*Q,ε),p)-Q,x0=n/θ/3)[0])\n",
    "\n",
    "# drivers\n",
    "a = 3.\n",
    "b = 5.\n",
    "j = 4.\n",
    "Ω = 600\n",
    "R_min = 3\n",
    "R = lambda n: R_min + b/((Ω/n)**(1/j)-1)**(1/a)\n",
    "S = np.vectorize(lambda n,p: n*R(n)/p)\n",
    "\n",
    "ns = np.linspace(10,400,100)\n",
    "p0 = p-3.019\n",
    "p1 = p+3.83\n",
    "ps = np.linspace(p0,p1,50)\n",
    "fig,ax = plt.subplots(figsize=(4.2,4))\n",
    "def asdf (p,x0):\n",
    "    try:\n",
    "        return opt.fsolve(lambda n: D(n,p)-S(n,p),x0=x0)\n",
    "    except RuntimeWarning:\n",
    "        return 0\n",
    "    \n",
    "asdf = np.vectorize(asdf)\n",
    "ns = asdf(ps,50)\n",
    "ax.plot(ns, D(ns,ps),c=\"#e33371\",label=\"unstable\")\n",
    "ns = asdf(ps,400)\n",
    "ax.plot(ns,D(ns,ps),c=\"#03a9f4\",label=\"stable\")\n",
    "ax.legend()"
   ]
  },
  {
   "cell_type": "markdown",
   "id": "e37971bd",
   "metadata": {},
   "source": [
    "## Simulation of $C$-model where optimal medallion rent is positive"
   ]
  },
  {
   "cell_type": "code",
   "execution_count": 2,
   "id": "ba3c99d3",
   "metadata": {},
   "outputs": [
    {
     "name": "stdout",
     "output_type": "stream",
     "text": [
      "n= 7.61239910546075,\n",
      "p= 1.654168380488681,\n",
      "Q= 18.20644950193997,\n",
      "m= 0.13560230771302972,\n",
      "cbar= 0.3806199552730375,\n",
      "chat= 0.761239910546075,\n",
      "w= 0.32392176385028587\n"
     ]
    }
   ],
   "source": [
    "R = 2.0\n",
    "θ = 1./3.\n",
    "β = 5.\n",
    "Q0 = 30.\n",
    "γ = .5\n",
    "cmax = 1\n",
    "Ω = 10.\n",
    "χ = 5.\n",
    "f = lambda w,p,c: Q0 - β*w - (p+c)*χ\n",
    "cbar = lambda n: cmax*(n/(2*Ω))\n",
    "chat = lambda n: cmax*(n/Ω)\n",
    "ε = np.finfo(float).eps\n",
    "D = lambda n,p: opt.fsolve(lambda Q: f(γ/max(n-θ*Q,ε),p,cbar(n))-Q,x0=n/θ/2)[0]\n",
    "\n",
    "def W(n,p):\n",
    "    Q = D(n,p)\n",
    "    return Q**2/(2*χ) + (p-cbar(n))*Q - R*n\n",
    "bnds = ([ε, Ω], [0, None])\n",
    "n,p = opt.minimize(lambda x: -W(*x), \n",
    "                   (Ω/2, R*θ),\n",
    "                   constraints={\n",
    "                   'type': 'ineq', \n",
    "                   'fun': lambda x:  x[0]-D(x[0],x[1])*θ\n",
    "                   },\n",
    "                   bounds=bnds).x\n",
    "Q = D(n,p)\n",
    "m = Q*(p-chat(n))/n - R\n",
    "print(f\"n= {n},\\np= {p},\\nQ= {Q},\\nm= {m},\\ncbar= {cbar(n)},\\nchat= {chat(n)},\\nw= {γ/(n-θ*Q)}\")"
   ]
  },
  {
   "cell_type": "markdown",
   "id": "179cb099",
   "metadata": {},
   "source": [
    "## Simulation where optimal price is below marginal cost"
   ]
  },
  {
   "cell_type": "code",
   "execution_count": 3,
   "id": "2d4fa8fe",
   "metadata": {},
   "outputs": [
    {
     "name": "stdout",
     "output_type": "stream",
     "text": [
      "n= 11.995449583735082,\n",
      "p= 0.7502031328742483,\n",
      "Q= 25.53160653295938,\n",
      "m= -0.30534400677234236,\n",
      "cbar= 0.39984831945783605,\n",
      "chat= 0.7996966389156721,\n",
      "w= 0.14347556053387558\n"
     ]
    }
   ],
   "source": [
    "#when passengers don't care about quality\n",
    "R = .2\n",
    "θ = 1./3.\n",
    "β = 5.\n",
    "Q0 = 30.\n",
    "γ = .5\n",
    "cmax = 1\n",
    "Ω = 15.\n",
    "χ = 5.\n",
    "f = lambda w,p,c: Q0 - β*w - (p)*χ\n",
    "cbar = lambda n: cmax*(n/(2*Ω))\n",
    "chat = lambda n: cmax*(n/Ω)\n",
    "ε = np.finfo(float).eps\n",
    "D = lambda n,p: opt.fsolve(lambda Q: f(γ/max(n-θ*Q,ε),p,cbar(n))-Q,x0=n/θ/2)[0]\n",
    "\n",
    "def W(n,p):\n",
    "    Q = D(n,p)\n",
    "    return Q**2/(2*χ) + (p-cbar(n))*Q - R*n\n",
    "bnds = ([ε, Ω], [0, None])\n",
    "n,p = opt.minimize(lambda x: -W(*x), \n",
    "                   (Ω/2, R*θ),\n",
    "                   constraints={\n",
    "                   'type': 'ineq', \n",
    "                   'fun': lambda x:  x[0]-D(x[0],x[1])*θ\n",
    "                   },\n",
    "                   bounds=bnds).x\n",
    "Q = D(n,p)\n",
    "m = Q*(p-chat(n))/n - R\n",
    "print(f\"n= {n},\\np= {p},\\nQ= {Q},\\nm= {m},\\ncbar= {cbar(n)},\\nchat= {chat(n)},\\nw= {γ/(n-θ*Q)}\")"
   ]
  },
  {
   "cell_type": "code",
   "execution_count": 7,
   "id": "84680231",
   "metadata": {},
   "outputs": [
    {
     "data": {
      "text/plain": [
       "8.326672684688674e-17"
      ]
     },
     "execution_count": 7,
     "metadata": {},
     "output_type": "execute_result"
    }
   ],
   "source": [
    "Q/n*(chat(n)-p + R * n / Q + p - chat(n)) - R "
   ]
  },
  {
   "cell_type": "code",
   "execution_count": null,
   "id": "dc3185c3",
   "metadata": {},
   "outputs": [],
   "source": []
  }
 ],
 "metadata": {
  "kernelspec": {
   "display_name": "Python 3 (ipykernel)",
   "language": "python",
   "name": "python3"
  },
  "language_info": {
   "codemirror_mode": {
    "name": "ipython",
    "version": 3
   },
   "file_extension": ".py",
   "mimetype": "text/x-python",
   "name": "python",
   "nbconvert_exporter": "python",
   "pygments_lexer": "ipython3",
   "version": "3.7.7"
  },
  "vscode": {
   "interpreter": {
    "hash": "40d3a090f54c6569ab1632332b64b2c03c39dcf918b08424e98f38b5ae0af88f"
   }
  }
 },
 "nbformat": 4,
 "nbformat_minor": 5
}
